{
 "cells": [
  {
   "cell_type": "code",
   "execution_count": 1,
   "id": "b23c8eb8-5950-4137-a543-dba08bda7c2d",
   "metadata": {},
   "outputs": [],
   "source": [
    "# getting started - easier\n",
    "\n",
    "import numpy as np\n",
    "from time import perf_counter, sleep\n",
    "import matplotlib.pyplot as plt\n",
    "from tqdm import tqdm\n",
    "\n",
    "from board import board_obj\n",
    "from operations import ops\n",
    "import vis_tools"
   ]
  },
  {
   "cell_type": "code",
   "execution_count": 2,
   "id": "3b5e68b3-6ea6-4231-b7dd-1cea70d3ff6c",
   "metadata": {},
   "outputs": [
    {
     "data": {
      "image/png": "[encoded data removed]",
      "text/plain": [
       "<Figure size 432x288 with 1 Axes>"
      ]
     },
     "metadata": {
      "needs_background": "light"
     },
     "output_type": "display_data"
    }
   ],
   "source": [
    "# initialize a board, a container that holds the game information\n",
    "some_board = board_obj()\n",
    "\n",
    "# perform an operation on the board, specifically making a move at (3,2)\n",
    "ops.make_move(some_board, (3,2))\n",
    "\n",
    "# visualize\n",
    "vis_tools.fancy_draw_board(some_board)\n",
    "vis_tools.add_valid_moves(some_board)"
   ]
  },
  {
   "cell_type": "markdown",
   "id": "8b1d072e-5736-4603-bfaf-13fb1c99d4e7",
   "metadata": {},
   "source": [
    "---\n",
    "## The engine, briefly\n",
    "\n",
    "The \"board object\" contains static information, including game history.<br>\n",
    "\"Operations\" are applied to update that board based on agent requests.\n",
    "\n",
    "You will have access to the operations library which may simplify your design. This was recently rewritten to include 'move' and 'undo' functions that should help with tree searches."
   ]
  },
  {
   "cell_type": "markdown",
   "id": "4e94b4b2-8054-4583-b3ac-f182aa36d832",
   "metadata": {},
   "source": [
    "---\n",
    "## Build a bot\n",
    "\n",
    "You need to build a bot. This will be a python class with some required functions.<br>\n",
    "You will have access to the following libraries: \n",
    "- xyz\n",
    "- abc\n",
    "- hij\n",
    "\n",
    "---\n",
    "Below is an example bot:"
   ]
  },
  {
   "cell_type": "code",
   "execution_count": 3,
   "id": "671faf3a-7114-4270-82ba-93cf6eff778f",
   "metadata": {},
   "outputs": [],
   "source": [
    "class template_bot:\n",
    "    '''\n",
    "    this bot selects a random valid move\n",
    "    '''\n",
    "    def __init__(self, name = 'beep-boop'):\n",
    "        self.name = name\n",
    "    def move(self, board_dict):\n",
    "        random_index = np.random.choice(len(board_dict['valid_moves']))\n",
    "        return board_dict['valid_moves'][random_index]"
   ]
  },
  {
   "cell_type": "markdown",
   "id": "e19b6eb0-ba7a-48e7-9f57-ad4292760aad",
   "metadata": {},
   "source": [
    "All bots will have a \"move\" method that takes a dictionary as input.<br>\n",
    "Let's take a look at that dictionary using the \"ops\" library:"
   ]
  },
  {
   "cell_type": "code",
   "execution_count": 4,
   "id": "ece4f823-42f2-484c-b0fd-11734572a79c",
   "metadata": {},
   "outputs": [
    {
     "data": {
      "text/plain": [
       "{'board_state': array([[-0., -0., -0., -0., -0., -0., -0., -0., -0.],\n",
       "        [-0., -0., -0., -0., -0., -0., -0., -0., -0.],\n",
       "        [-0., -0., -0., -0., -0., -0., -0., -0., -0.],\n",
       "        [-0., -0., -1., -0., -0., -0., -0., -0., -0.],\n",
       "        [-0., -0., -0., -0., -0., -0., -0., -0., -0.],\n",
       "        [-0., -0., -0., -0., -0., -0., -0., -0., -0.],\n",
       "        [-0., -0., -0., -0., -0., -0., -0., -0., -0.],\n",
       "        [-0., -0., -0., -0., -0., -0., -0., -0., -0.],\n",
       "        [-0., -0., -0., -0., -0., -0., -0., -0., -0.]]),\n",
       " 'active_box': (0, 2),\n",
       " 'valid_moves': [(0, 6),\n",
       "  (0, 7),\n",
       "  (0, 8),\n",
       "  (1, 6),\n",
       "  (1, 7),\n",
       "  (1, 8),\n",
       "  (2, 6),\n",
       "  (2, 7),\n",
       "  (2, 8)]}"
      ]
     },
     "execution_count": 4,
     "metadata": {},
     "output_type": "execute_result"
    }
   ],
   "source": [
    "ops.pull_dictionary(some_board)"
   ]
  },
  {
   "cell_type": "markdown",
   "id": "9be046b9-7d5a-4388-9bcd-82f0af2a32f7",
   "metadata": {},
   "source": [
    "There are 3 keys:<br>\n",
    "- The \"board_state\" is are the locations of each placed marker. Your markers are +1, your opponent is -1.\n",
    "- The \"active_box\" identifies which miniboard the current player plays on.\n",
    "- \"valid_moves\" is a list of the valid positions that can be returned.\n"
   ]
  },
  {
   "cell_type": "code",
   "execution_count": 5,
   "id": "e66ecdd0-ef5b-4351-8e62-9db66700b19e",
   "metadata": {},
   "outputs": [],
   "source": [
    "class your_bot:\n",
    "    '''\n",
    "    this bot selects a random valid move\n",
    "    '''\n",
    "    def __init__(self, name = 'version 0.1'):\n",
    "        self.name = name\n",
    "    def move(self, board_dict):\n",
    "        \n",
    "        ''' ---  some intentionally bad logic ----'''\n",
    "        sleep(0.1)\n",
    "        \n",
    "        return tuple(np.random.randint(9,size=2))"
   ]
  },
  {
   "cell_type": "code",
   "execution_count": 6,
   "id": "30c8de91-4ede-4277-bab5-101943a3c075",
   "metadata": {},
   "outputs": [
    {
     "name": "stderr",
     "output_type": "stream",
     "text": [
      "  0%|                                                    | 0/10 [00:00<?, ?it/s]\n"
     ]
    },
    {
     "ename": "Exception",
     "evalue": "invalid move selected by p1, (6, 5)",
     "output_type": "error",
     "traceback": [
      "\u001b[0;31m---------------------------------------------------------------------------\u001b[0m",
      "\u001b[0;31mException\u001b[0m                                 Traceback (most recent call last)",
      "\u001b[0;32m/var/folders/tn/9tq725tx3bj46cw90w451p_r0000gp/T/ipykernel_91221/3235708767.py\u001b[0m in \u001b[0;36m<module>\u001b[0;34m\u001b[0m\n\u001b[1;32m     21\u001b[0m         \u001b[0;31m# validate the move\u001b[0m\u001b[0;34m\u001b[0m\u001b[0;34m\u001b[0m\u001b[0m\n\u001b[1;32m     22\u001b[0m         \u001b[0;32mif\u001b[0m \u001b[0;32mnot\u001b[0m \u001b[0mops\u001b[0m\u001b[0;34m.\u001b[0m\u001b[0mcheck_move_is_valid\u001b[0m\u001b[0;34m(\u001b[0m\u001b[0mmy_board\u001b[0m\u001b[0;34m,\u001b[0m \u001b[0magent1_move\u001b[0m\u001b[0;34m)\u001b[0m\u001b[0;34m:\u001b[0m\u001b[0;34m\u001b[0m\u001b[0;34m\u001b[0m\u001b[0m\n\u001b[0;32m---> 23\u001b[0;31m             \u001b[0;32mraise\u001b[0m \u001b[0mException\u001b[0m\u001b[0;34m(\u001b[0m\u001b[0;34mf'invalid move selected by p1, {agent1_move}'\u001b[0m\u001b[0;34m)\u001b[0m\u001b[0;34m\u001b[0m\u001b[0;34m\u001b[0m\u001b[0m\n\u001b[0m\u001b[1;32m     24\u001b[0m \u001b[0;34m\u001b[0m\u001b[0m\n\u001b[1;32m     25\u001b[0m         \u001b[0;31m# make the move\u001b[0m\u001b[0;34m\u001b[0m\u001b[0;34m\u001b[0m\u001b[0m\n",
      "\u001b[0;31mException\u001b[0m: invalid move selected by p1, (6, 5)"
     ]
    }
   ],
   "source": [
    "''' define bots '''\n",
    "agent1 = your_bot()\n",
    "agent2 = template_bot()\n",
    "\n",
    "''' track time to calculate turn '''\n",
    "agent1_times = list()\n",
    "agent2_times = list()\n",
    "\n",
    "win_counter = 0 # quick integer check to see whether line bot wins more than loses\n",
    "\n",
    "for game_index in tqdm(range(10)):\n",
    "    my_board = board_obj()\n",
    "    for i in range(81): # up to 81 moves per game.\n",
    "        ''' ------ agent 1 turn ------'''\n",
    "        # get dictionary \n",
    "        temp_dict = ops.pull_dictionary(my_board)\n",
    "        # give dict to agent, calculate move\n",
    "        start = perf_counter()\n",
    "        agent1_move = agent1.move(temp_dict)\n",
    "        agent1_times.append(perf_counter()-start)\n",
    "        # validate the move\n",
    "        if not ops.check_move_is_valid(my_board, agent1_move):\n",
    "            raise Exception(f'invalid move selected by p1, {agent1_move}')\n",
    "\n",
    "        # make the move\n",
    "        ops.make_move(my_board, agent1_move)\n",
    "        # check whether game is finished\n",
    "        if ops.check_game_finished(my_board):\n",
    "            win_counter += 1\n",
    "            break\n",
    "\n",
    "        ''' agent 2 turn '''\n",
    "        # get dictionary \n",
    "        temp_dict = ops.pull_dictionary(my_board)\n",
    "        # give dict to agent, calculate move\n",
    "        start = perf_counter()\n",
    "        agent2_move = agent2.move(temp_dict)\n",
    "        agent2_times.append(perf_counter()-start)\n",
    "\n",
    "        # validate the move\n",
    "        if not ops.check_move_is_valid(my_board, agent2_move):\n",
    "            raise Exception(f'invalid move selected by p2, {agent2_move}')\n",
    "        # make the move\n",
    "        ops.make_move(my_board, agent2_move)\n",
    "        # check whether game is finished\n",
    "        if ops.check_game_finished(my_board):\n",
    "            win_counter -= 1\n",
    "            break\n",
    "\n",
    "print(win_counter)"
   ]
  },
  {
   "cell_type": "markdown",
   "id": "f70fc438-cad0-436d-a211-d5ceeaac7ee3",
   "metadata": {},
   "source": [
    "---\n",
    "## Debugging\n",
    "Inevitably you'll run into errors.<br>\n",
    "You can narrow down the source of the error by investigating the state of the board and the action your bot wants to make.\n",
    "Pull the information about the board with:"
   ]
  },
  {
   "cell_type": "code",
   "execution_count": 7,
   "id": "d827ada2-950e-4553-85d2-7115062f040f",
   "metadata": {},
   "outputs": [
    {
     "name": "stdout",
     "output_type": "stream",
     "text": [
      "agent1 move: (6, 5) \n",
      "\n",
      "valid moves: [(3, 6), (3, 7), (3, 8), (4, 6), (4, 7), (5, 6), (5, 7), (5, 8)] \n",
      "\n",
      "dict: {'board_state': array([[ 0.,  0.,  0.,  0.,  0.,  0.,  0.,  0.,  0.],\n",
      "       [ 0.,  0.,  0.,  0.,  0.,  0.,  0.,  0.,  0.],\n",
      "       [ 0.,  0.,  0.,  0.,  0.,  0.,  0.,  0.,  0.],\n",
      "       [ 0.,  0.,  0.,  0.,  0.,  0.,  0.,  0.,  0.],\n",
      "       [ 0.,  0.,  0.,  0.,  0.,  1.,  0.,  0., -1.],\n",
      "       [ 0.,  0.,  0.,  0.,  0.,  0.,  0.,  0.,  0.],\n",
      "       [ 0.,  0.,  0.,  0.,  0.,  0.,  0.,  0.,  0.],\n",
      "       [ 0.,  0.,  0.,  0.,  0.,  0.,  0.,  0.,  0.],\n",
      "       [ 0.,  0.,  0.,  0.,  0.,  0.,  0.,  0.,  0.]]), 'active_box': (1, 2), 'valid_moves': [(3, 6), (3, 7), (3, 8), (4, 6), (4, 7), (5, 6), (5, 7), (5, 8)]} \n",
      "\n"
     ]
    }
   ],
   "source": [
    "print('agent1 move:', agent1_move, '\\n')\n",
    "\n",
    "print('valid moves:', ops.get_valid_moves(my_board), '\\n')\n",
    "\n",
    "print('dict:',ops.pull_dictionary(my_board), '\\n')\n"
   ]
  },
  {
   "cell_type": "markdown",
   "id": "f37cda3b-0ba8-40bc-a992-800dfd25b205",
   "metadata": {},
   "source": [
    "And visualize the board with:"
   ]
  },
  {
   "cell_type": "code",
   "execution_count": 8,
   "id": "4b80f75e-8707-40ba-8ed8-c695c2048532",
   "metadata": {},
   "outputs": [
    {
     "name": "stdout",
     "output_type": "stream",
     "text": [
      "selected moved given this board: (2, 8)\n"
     ]
    },
    {
     "data": {
      "image/png": "[encoded data removed]",
      "text/plain": [
       "<Figure size 432x288 with 1 Axes>"
      ]
     },
     "metadata": {
      "needs_background": "light"
     },
     "output_type": "display_data"
    }
   ],
   "source": [
    "# visualize the game state\n",
    "vis_tools.fancy_draw_board(my_board)\n",
    "vis_tools.add_valid_moves(my_board)\n",
    "\n",
    "# using this info, see what move your agent wants to make\n",
    "selected_move = agent1.move(ops.pull_dictionary(my_board))\n",
    "print('selected moved given this board:', selected_move)\n",
    "plt.scatter(selected_move[0],selected_move[1],c='r',s=100,marker='x');"
   ]
  },
  {
   "cell_type": "markdown",
   "id": "6ba1fc18-6e83-4cd5-8714-80793f688c46",
   "metadata": {},
   "source": [
    "---\n",
    "## Evaluation and timing\n",
    "Once you get a bot up and running, take a look at how long you have to calculate moves with the \"times\" list.\n",
    "The win_counter is a quick and dirty way to evaluate your bot against some opponent.\n"
   ]
  },
  {
   "cell_type": "code",
   "execution_count": 9,
   "id": "7c4df831-8d29-4ebd-bf52-9d3daa3e53f8",
   "metadata": {
    "collapsed": true,
    "jupyter": {
     "outputs_hidden": true
    },
    "tags": []
   },
   "outputs": [
    {
     "data": {
      "image/png": "[encoded data removed]",
      "text/plain": [
       "<Figure size 432x288 with 1 Axes>"
      ]
     },
     "metadata": {
      "needs_background": "light"
     },
     "output_type": "display_data"
    }
   ],
   "source": [
    "\n",
    "''' plot the times your bot took to execute a move '''\n",
    "# the mean must be below 0.5 seconds\n",
    "\n",
    "plt.hist(agent2_times,bins=20,label=f'mean {np.round(np.mean(agent1_times),4)}')\n",
    "plt.xlabel('time (s)')\n",
    "plt.grid(alpha=0.4)\n",
    "plt.legend();\n"
   ]
  },
  {
   "cell_type": "markdown",
   "id": "a4790d77-975f-4036-8957-de0c5e5df683",
   "metadata": {
    "jp-MarkdownHeadingCollapsed": true,
    "tags": []
   },
   "source": [
    "---\n",
    "## Try to beat a decent bot\n"
   ]
  },
  {
   "cell_type": "code",
   "execution_count": 11,
   "id": "5fd1f420-1242-4057-ab6c-9258eece0790",
   "metadata": {},
   "outputs": [
    {
     "name": "stderr",
     "output_type": "stream",
     "text": [
      "100%|█████████████████████████████████████████| 100/100 [00:07<00:00, 13.01it/s]"
     ]
    },
    {
     "name": "stdout",
     "output_type": "stream",
     "text": [
      "96\n"
     ]
    },
    {
     "name": "stderr",
     "output_type": "stream",
     "text": [
      "\n"
     ]
    }
   ],
   "source": [
    "from line_completer import line_completer_bot\n",
    "\n",
    "''' define bots '''\n",
    "agent1 = line_completer_bot()\n",
    "agent2 = your_bot()\n",
    "\n",
    "''' track time to calculate turn '''\n",
    "agent1_times = list()\n",
    "agent2_times = list()\n",
    "\n",
    "win_counter = 0 # quick integer check to see whether line bot wins more than loses\n",
    "\n",
    "for game_index in tqdm(range(100)):\n",
    "    my_board = board_obj()\n",
    "    for i in range(81): # up to 81 moves per game.\n",
    "        ''' ------ agent 1 turn ------'''\n",
    "        # get dictionary \n",
    "        temp_dict = ops.pull_dictionary(my_board)\n",
    "        # give dict to agent, calculate move\n",
    "        start = perf_counter()\n",
    "        agent1_move = agent1.move(temp_dict)\n",
    "        agent1_times.append(perf_counter()-start)\n",
    "        # validate the move\n",
    "        if not ops.check_move_is_valid(my_board, agent1_move):\n",
    "            raise Exception(f'invalid move selected by p1, {agent1_move}')\n",
    "\n",
    "        # make the move\n",
    "        ops.make_move(my_board, agent1_move)\n",
    "        # check whether game is finished\n",
    "        if ops.check_game_finished(my_board):\n",
    "            win_counter += 1\n",
    "            break\n",
    "\n",
    "        ''' agent 2 turn '''\n",
    "        # get dictionary \n",
    "        temp_dict = ops.pull_dictionary(my_board)\n",
    "        # give dict to agent, calculate move\n",
    "        start = perf_counter()\n",
    "        agent2_move = agent2.move(temp_dict)\n",
    "        agent2_times.append(perf_counter()-start)\n",
    "\n",
    "        # validate the move\n",
    "        if not ops.check_move_is_valid(my_board, agent2_move):\n",
    "            raise Exception(f'invalid move selected by p2, {agent2_move}')\n",
    "        # make the move\n",
    "        ops.make_move(my_board, agent2_move)\n",
    "        # check whether game is finished\n",
    "        if ops.check_game_finished(my_board):\n",
    "            win_counter -= 1\n",
    "            break\n",
    "\n",
    "print(win_counter)"
   ]
  },
  {
   "cell_type": "code",
   "execution_count": null,
   "id": "8c9c39cd-019d-46cb-ae97-0a8b94fb277b",
   "metadata": {},
   "outputs": [],
   "source": []
  }
 ],
 "metadata": {
  "kernelspec": {
   "display_name": "Python 3 (ipykernel)",
   "language": "python",
   "name": "python3"
  },
  "language_info": {
   "codemirror_mode": {
    "name": "ipython",
    "version": 3
   },
   "file_extension": ".py",
   "mimetype": "text/x-python",
   "name": "python",
   "nbconvert_exporter": "python",
   "pygments_lexer": "ipython3",
   "version": "3.9.7"
  }
 },
 "nbformat": 4,
 "nbformat_minor": 5
}
