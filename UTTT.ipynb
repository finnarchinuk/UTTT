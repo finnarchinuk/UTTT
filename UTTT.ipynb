{
 "cells": [
  {
   "cell_type": "code",
   "execution_count": null,
   "id": "07a229ef-b9e5-4d98-8b4f-ebeb3b7a4dfe",
   "metadata": {},
   "outputs": [],
   "source": [
    "''' let's UTTT '''"
   ]
  },
  {
   "cell_type": "code",
   "execution_count": 1,
   "id": "02927456-d172-4b50-bccc-f248ec5c869d",
   "metadata": {},
   "outputs": [],
   "source": [
    "import numpy as np\n",
    "import matplotlib.pyplot as plt"
   ]
  },
  {
   "cell_type": "code",
   "execution_count": 2,
   "id": "ec1b7eb8-129c-4704-b285-681f86a5046b",
   "metadata": {},
   "outputs": [],
   "source": [
    "''' visualize '''\n",
    "from matplotlib.colors import LinearSegmentedColormap\n",
    "cmap = LinearSegmentedColormap.from_list('mycmap', ['lightgrey', 'white'])\n",
    "import matplotlib.colors as mcolors\n",
    "tab10_names = list(mcolors.TABLEAU_COLORS) # create a list of colours\n",
    "\n",
    "\n",
    "def checkerboard(shape):\n",
    "    # from https://stackoverflow.com/questions/2169478/how-to-make-a-checkerboard-in-numpy\n",
    "    return np.indices(shape).sum(axis=0) % 2\n",
    "\n",
    "\n",
    "class uttt_engine():\n",
    "    def __init__(self):\n",
    "        self.current_player = 1 # players are \"1\" and \"-1\"\n",
    "        self.active_box = (-1,-1)    # -1 means any box can be active\n",
    "        self.board_state = np.zeros((9,9))\n",
    "        self._finished_boxes = np.zeros((3,3)) # -1 and 1 for xs and os. 2 indicates stalemate\n",
    "        self.finished = False\n",
    "        self.finished_win = False\n",
    "        self.finished_stale = False\n",
    "        self.silent = True\n",
    "        \n",
    "    def _check_validity(self, position: tuple) -> bool:\n",
    "        ''' check whether position - a tuple - is valid '''\n",
    "        \n",
    "        box_validity = (self.active_box == self.map_to_major(position)) \\\n",
    "                        or (self.active_box == (-1,-1))\n",
    "        open_validity = (self.board_state[position] == 0)\n",
    "        return box_validity and open_validity\n",
    "    \n",
    "    def _check_line(self, box):\n",
    "        '''\n",
    "        box is a (3,3) array\n",
    "        returns True if a line is found\n",
    "        '''\n",
    "        for i in range(3):\n",
    "            if abs(sum(box[:,i])) == 3: return True # horizontal\n",
    "            if abs(sum(box[i,:])) == 3: return True # vertical\n",
    "\n",
    "        # diagonals\n",
    "        if abs(box.trace()) == 3: return True\n",
    "        if abs(np.rot90(box).trace()) == 3: return True\n",
    "\n",
    "    def map_to_major(self, position: tuple) -> tuple:\n",
    "        '''\n",
    "        converts position to major coordinates\n",
    "        eg: (5,3) -> (1,1)\n",
    "        '''\n",
    "        return(position[0]//3, position[1]//3)\n",
    "\n",
    "    def map_to_minor(self, position: tuple) -> tuple:\n",
    "        '''\n",
    "        converts position into mini coordinates\n",
    "        eg: (5,3) -> (2,0)\n",
    "        '''\n",
    "        return (position[0]%3, position[1]%3)\n",
    "\n",
    "    def _check_full_stale(self) -> None:\n",
    "        ''' this might be impossible? '''\n",
    "        # get number of invalid boxes\n",
    "        \n",
    "#        print((self._finished_boxes == 0).sum())\n",
    "        if (self._finished_boxes == 0).sum() == 0:\n",
    "            self.finished_stale = True\n",
    "            self.finished = True\n",
    "\n",
    "    def _update_board(self, position: tuple) -> None:\n",
    "        '''\n",
    "        the main game logic. board updates and logic checks.\n",
    "        '''\n",
    "        if self.finished:\n",
    "            print('game finished')\n",
    "            return\n",
    "        \n",
    "        if self._check_validity(position):\n",
    "            \n",
    "            # place marker\n",
    "            self.board_state[position] = self.current_player\n",
    "            \n",
    "            # select both scales\n",
    "            temp_box = self.map_to_major(position)\n",
    "            temp_minor_box = self.board_state[3*temp_box[0]:3*temp_box[0]+3,\n",
    "                                              3*temp_box[1]:3*temp_box[1]+3]\n",
    "            \n",
    "            ''' check line at minor scale '''\n",
    "            if self._check_line(temp_minor_box):\n",
    "                self._finished_boxes[self.map_to_major(position)] = self.current_player\n",
    "                \n",
    "                # check line at major scale\n",
    "                if self._check_line(self._finished_boxes):\n",
    "                    self.finished_win = True\n",
    "                    self.finished = True\n",
    "\n",
    "            # if no squares are open, mark as stale\n",
    "            elif (temp_minor_box == 0).sum() == 0:\n",
    "                self._finished_boxes[self.map_to_major(position)] = 6 # indicates stalemate in that box\n",
    "            \n",
    "            # is the whole game board stale?\n",
    "            self._check_full_stale()\n",
    "            \n",
    "            # calculate active box\n",
    "            self.active_box = self.map_to_minor(position)\n",
    "            # if that box is won or stale flag it\n",
    "            if self._finished_boxes[self.active_box] != 0:\n",
    "                self.active_box = (-1,-1)\n",
    "            \n",
    "            self.current_player *= -1 # switch player\n",
    "\n",
    "        else:\n",
    "            if not self.silent:\n",
    "                print('move invalid, try again')\n",
    "\n",
    "    def get_valid_moves(self) -> np.array:\n",
    "        '''\n",
    "        returns an array (N,2) of valid moves\n",
    "        '''\n",
    "        # define masks that cover the board\n",
    "        # across the whole board\n",
    "        full_board_mask = (self.board_state == 0)\n",
    "        # active square\n",
    "        active_box_mask = np.zeros((9,9),dtype=bool)\n",
    "\n",
    "        if self.active_box == (-1,-1):\n",
    "            active_box_mask[:] = True\n",
    "        else:\n",
    "            active_box_mask[3*self.active_box[0]:3*self.active_box[0]+3,\n",
    "                            3*self.active_box[1]:3*self.active_box[1]+3] = True\n",
    "\n",
    "        # return get union of maps\n",
    "        return np.array(np.where(active_box_mask * full_board_mask)).T\n",
    "\n",
    "    def draw_valid_moves(self) -> None:\n",
    "        moves = self.get_valid_moves()\n",
    "        plt.scatter(moves[:,0],moves[:,1],marker='s',c='purple',alpha=0.3, s=50)\n",
    "        \n",
    "    def draw_board(self, marker_size: int = 100) -> None:\n",
    "        plt.imshow(checkerboard((9,9)), cmap=cmap, origin='lower')\n",
    "        for i in [-0.5,2.5,5.5, 8.5]:\n",
    "            plt.axvline(i,c='k')\n",
    "            plt.axhline(i,c='k')\n",
    "        plt.axis('off')\n",
    "\n",
    "        plt.scatter(*np.where(engine.board_state == -1),marker='x',s=marker_size,c='tab:blue')\n",
    "        plt.scatter(*np.where(engine.board_state == 1), marker='o',s=marker_size,c='tab:orange')\n",
    "        \n",
    "        x_boxes = np.where(engine._finished_boxes == -1)\n",
    "        o_boxes = np.where(engine._finished_boxes == 1)\n",
    "        plt.scatter(x_boxes[0]*3+1,x_boxes[1]*3+1,marker='s',s=marker_size*50,alpha=0.6,c='tab:blue')\n",
    "        plt.scatter(o_boxes[0]*3+1,o_boxes[1]*3+1,marker='s',s=marker_size*50,alpha=0.6,c='tab:orange')\n",
    "        \n",
    "        stale_boxes = np.where(engine._finished_boxes == 6)\n",
    "        plt.scatter(stale_boxes[0]*3+1,stale_boxes[1]*3+1,marker='s',s=marker_size*50,alpha=0.3,c='k')\n",
    "        "
   ]
  },
  {
   "cell_type": "code",
   "execution_count": 3,
   "id": "f091ed13-7fdd-4d12-987e-8891d5398ea2",
   "metadata": {},
   "outputs": [
    {
     "name": "stdout",
     "output_type": "stream",
     "text": [
      "132\n",
      "0.13\n",
      "0.054903804593000004\n"
     ]
    },
    {
     "data": {
      "image/png": "[encoded data removed]",
      "text/plain": [
       "<Figure size 432x288 with 1 Axes>"
      ]
     },
     "metadata": {
      "needs_background": "light"
     },
     "output_type": "display_data"
    }
   ],
   "source": [
    "''' test whether we ever see a full stalemate '''\n",
    "# we sure do\n",
    "from time import perf_counter\n",
    "\n",
    "n_games = 1_000\n",
    "\n",
    "\n",
    "start_time = perf_counter()\n",
    "n_draw = 0\n",
    "for _ in range(n_games):\n",
    "    engine = uttt_engine()\n",
    "    while engine.finished == False:\n",
    "        pos = tuple(np.random.randint(9,size=2)) # truly random (including invalid positions)\n",
    "        engine._update_board(pos)\n",
    "\n",
    "    if engine.finished_stale:\n",
    "        n_draw += 1\n",
    "end_time = perf_counter()\n",
    "\n",
    "print(n_draw)\n",
    "print(round(n_draw/n_games,2))\n",
    "print((end_time - start_time)/n_games)\n",
    "\n",
    "engine.draw_board()\n"
   ]
  },
  {
   "cell_type": "code",
   "execution_count": 7,
   "id": "4779d121-bd44-4433-9a33-25799fc2c283",
   "metadata": {},
   "outputs": [
    {
     "data": {
      "image/png": "[encoded data removed]",
      "text/plain": [
       "<Figure size 432x288 with 1 Axes>"
      ]
     },
     "metadata": {
      "needs_background": "light"
     },
     "output_type": "display_data"
    }
   ],
   "source": [
    "''' demonstrate get_valid_moves() '''\n",
    "engine = uttt_engine()\n",
    "\n",
    "for _ in range(20):\n",
    "    valid_moves = engine.get_valid_moves()\n",
    "    random_index = np.random.choice(np.arange(len(valid_moves)))\n",
    "\n",
    "    pos = tuple(valid_moves[random_index])\n",
    "    engine._update_board(pos)\n",
    "\n",
    "engine.draw_board()\n",
    "engine.draw_valid_moves()"
   ]
  },
  {
   "cell_type": "code",
   "execution_count": 8,
   "id": "5037dbb0-d12c-4798-af10-8105ee1cba83",
   "metadata": {},
   "outputs": [
    {
     "data": {
      "image/png": "[encoded data removed]",
      "text/plain": [
       "<Figure size 432x288 with 1 Axes>"
      ]
     },
     "metadata": {
      "needs_background": "light"
     },
     "output_type": "display_data"
    }
   ],
   "source": [
    "''' play a game to completion '''\n",
    "\n",
    "engine = uttt_engine()\n",
    "\n",
    "for _ in range(81):\n",
    "    if engine.finished == False:\n",
    "        valid_moves = engine.get_valid_moves()\n",
    "        random_index = np.random.choice(np.arange(len(valid_moves)))\n",
    "\n",
    "        pos = tuple(valid_moves[random_index])\n",
    "        engine._update_board(pos)\n",
    "\n",
    "engine.draw_board()\n"
   ]
  },
  {
   "cell_type": "code",
   "execution_count": null,
   "id": "22eaa693-566d-435b-8ae7-1ccdb6f2da61",
   "metadata": {},
   "outputs": [],
   "source": []
  },
  {
   "cell_type": "code",
   "execution_count": null,
   "id": "4955dd79-8ac7-4cb3-8eb8-0ffc2e985e06",
   "metadata": {},
   "outputs": [],
   "source": []
  }
 ],
 "metadata": {
  "kernelspec": {
   "display_name": "Python 3 (ipykernel)",
   "language": "python",
   "name": "python3"
  },
  "language_info": {
   "codemirror_mode": {
    "name": "ipython",
    "version": 3
   },
   "file_extension": ".py",
   "mimetype": "text/x-python",
   "name": "python",
   "nbconvert_exporter": "python",
   "pygments_lexer": "ipython3",
   "version": "3.9.7"
  }
 },
 "nbformat": 4,
 "nbformat_minor": 5
}
